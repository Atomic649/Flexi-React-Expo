{
 "cells": [
  {
   "cell_type": "code",
   "execution_count": null,
   "metadata": {},
   "outputs": [],
   "source": [
    "!pip3 install tabula-py"
   ]
  },
  {
   "cell_type": "code",
   "execution_count": null,
   "metadata": {},
   "outputs": [],
   "source": [
    "\n",
    "! pip3 install pandas"
   ]
  },
  {
   "cell_type": "code",
   "execution_count": null,
   "metadata": {},
   "outputs": [],
   "source": [
    "!pip3 install PyMuPDF"
   ]
  },
  {
   "cell_type": "code",
   "execution_count": 13,
   "metadata": {},
   "outputs": [
    {
     "name": "stdout",
     "output_type": "stream",
     "text": [
      "[]\n",
      "Empty DataFrame\n",
      "Columns: [Date, Code/Channel]\n",
      "Index: []\n"
     ]
    }
   ],
   "source": [
    "import fitz  # PyMuPDF\n",
    "import re\n",
    "import pandas as pd\n",
    "\n",
    "# Function to extract text from PDF\n",
    "def extract_text_from_pdf(pdf_path):\n",
    "    doc = fitz.open(pdf_path)\n",
    "    text = \"\"\n",
    "    for page in doc:\n",
    "        text += page.get_text()\n",
    "    return text\n",
    "\n",
    "# Function to extract the desired data (including time)\n",
    "def extract_table_data(text):\n",
    "    # Regular expression to match rows in the table\n",
    "    row_pattern = re.compile(\n",
    "        r'\\b\\d{2}/\\d{2}/\\d{2}\\b(?!-\\d{2}/\\d{2}/\\d{4})'  # Date (DD/MM/YY)\n",
    "        # r'(\\d{2}:\\d{2})\\s+'        # Time (HH:MM)\n",
    "        # r'(\\w+/\\w+)\\s+'            # Code/Channel (e.g., TX/SYSG)\n",
    "        r'([\\d,.]+)\\s+'            # Debit/Credit amount\n",
    "        # r'.*?'                     # Skip balance and description\n",
    "       \n",
    "    )\n",
    "\n",
    "    # Find all matches in the text\n",
    "    matches = row_pattern.findall(text)\n",
    "\n",
    "    print(matches)\n",
    "\n",
    "    # Organize the data into a list of tuples\n",
    "    table_data = []\n",
    "    for match in matches:\n",
    "        date ,code = match\n",
    "        table_data.append((date, code))\n",
    "        # date, time, code, amount, note = match\n",
    "       # table_data.append((date, time, code, amount, note))\n",
    "\n",
    "    return table_data\n",
    "\n",
    "# Main function\n",
    "def main(pdf_path):\n",
    "    text = extract_text_from_pdf(pdf_path)\n",
    "    table_data = extract_table_data(text)\n",
    "\n",
    "    # Create a DataFrame to organize the data\n",
    "    df = pd.DataFrame(table_data, columns=['Date', 'Code/Channel'])\n",
    "\n",
    "    # Print the DataFrame\n",
    "    print(df)\n",
    "\n",
    "# Replace 'AcctSt_Dec24_RemovePasswords.pdf' with your PDF file path\n",
    "pdf_path = '/Volumes/LACIES/Flexi-React-Expo/python/pdf/AcctSt.pdf'\n",
    "main(pdf_path)"
   ]
  }
 ],
 "metadata": {
  "kernelspec": {
   "display_name": "Python 3",
   "language": "python",
   "name": "python3"
  },
  "language_info": {
   "codemirror_mode": {
    "name": "ipython",
    "version": 3
   },
   "file_extension": ".py",
   "mimetype": "text/x-python",
   "name": "python",
   "nbconvert_exporter": "python",
   "pygments_lexer": "ipython3",
   "version": "3.13.2"
  }
 },
 "nbformat": 4,
 "nbformat_minor": 2
}
